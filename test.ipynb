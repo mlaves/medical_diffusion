{
 "cells": [
  {
   "cell_type": "code",
   "execution_count": 10,
   "id": "e08adaae",
   "metadata": {},
   "outputs": [],
   "source": [
    "import numpy as np\n",
    "import torch\n",
    "from tqdm import tqdm\n",
    "\n",
    "from matplotlib import pyplot as plt\n",
    "\n",
    "from dataset import MedMNISTv2\n",
    "from models import UNet"
   ]
  },
  {
   "cell_type": "code",
   "execution_count": 2,
   "id": "ef5f2eab",
   "metadata": {},
   "outputs": [
    {
     "name": "stdout",
     "output_type": "stream",
     "text": [
      "38\n"
     ]
    }
   ],
   "source": [
    "net = UNet(in_channels=1, out_channels=1)\n",
    "checkpoint = torch.load(\"logs/checkpoint.pt\", map_location=\"cpu\")\n",
    "net.load_state_dict(checkpoint[\"net_state_dict\"])\n",
    "print(checkpoint['epoch'])\n",
    "\n",
    "timesteps = 1000\n",
    "beta = torch.linspace(1e-4, 0.02, timesteps)"
   ]
  },
  {
   "cell_type": "code",
   "execution_count": 29,
   "id": "3e58980f",
   "metadata": {},
   "outputs": [
    {
     "name": "stderr",
     "output_type": "stream",
     "text": [
      "000, 0.0000: 100%|██████████| 1000/1000 [00:09<00:00, 105.54it/s]\n"
     ]
    },
    {
     "data": {
      "image/png": "[encoded data removed]",
      "text/plain": [
       "<Figure size 640x480 with 1 Axes>"
      ]
     },
     "metadata": {},
     "output_type": "display_data"
    }
   ],
   "source": [
    "x_t = torch.randn(1, 1, 32, 32)\n",
    "with torch.inference_mode():\n",
    "    steps = tqdm(range(0, timesteps)[::-1])\n",
    "    for t in steps:\n",
    "        eps = net(x_t)\n",
    "        alpha_t = 1-beta[t]\n",
    "        alpha_bar_t = torch.prod(1-beta[:t+1])\n",
    "        z = torch.randn(1, 1, 32, 32)\n",
    "        sigma_t = torch.sqrt(beta[t]) if t > 0 else 0\n",
    "        x_t = 1/torch.sqrt(alpha_t)*(x_t-(1-alpha_t)/torch.sqrt(1-alpha_bar_t)*eps) + sigma_t*z\n",
    "        steps.set_description(f\"{t:03d}, {sigma_t:.4f}\")\n",
    "\n",
    "plt.figure()\n",
    "plt.imshow(x_t.detach().cpu().numpy()[0,0], cmap='gray')\n",
    "plt.title(f\"{str(t)}\")\n",
    "plt.show()"
   ]
  },
  {
   "cell_type": "code",
   "execution_count": null,
   "id": "7cf91e06",
   "metadata": {},
   "outputs": [],
   "source": []
  }
 ],
 "metadata": {
  "kernelspec": {
   "display_name": "py310",
   "language": "python",
   "name": "python3"
  },
  "language_info": {
   "codemirror_mode": {
    "name": "ipython",
    "version": 3
   },
   "file_extension": ".py",
   "mimetype": "text/x-python",
   "name": "python",
   "nbconvert_exporter": "python",
   "pygments_lexer": "ipython3",
   "version": "3.10.6 | packaged by conda-forge | (main, Aug 22 2022, 20:41:54) [Clang 13.0.1 ]"
  },
  "vscode": {
   "interpreter": {
    "hash": "2f7f347a2a893bfad3bc43654023dd33bd77bdd647d59b6a2b13201b49adb356"
   }
  }
 },
 "nbformat": 4,
 "nbformat_minor": 5
}
